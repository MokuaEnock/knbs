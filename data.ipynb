{
 "cells": [
  {
   "cell_type": "code",
   "execution_count": 70,
   "metadata": {},
   "outputs": [],
   "source": [
    "import pandas as pd\n",
    "import numpy as np \n",
    "import matplotlib.pyplot as plt \n",
    "import seaborn as sb"
   ]
  },
  {
   "cell_type": "code",
   "execution_count": 71,
   "metadata": {},
   "outputs": [
    {
     "name": "stderr",
     "output_type": "stream",
     "text": [
      "/tmp/ipykernel_5830/1630855121.py:1: DtypeWarning: Columns (16) have mixed types. Specify dtype option on import or set low_memory=False.\n",
      "  df = pd.read_csv(\"Filtered KNBS_data.csv\")\n"
     ]
    }
   ],
   "source": [
    "df = pd.read_csv(\"Filtered KNBS_data.csv\")"
   ]
  },
  {
   "cell_type": "code",
   "execution_count": 72,
   "metadata": {},
   "outputs": [
    {
     "data": {
      "text/html": [
       "<div>\n",
       "<style scoped>\n",
       "    .dataframe tbody tr th:only-of-type {\n",
       "        vertical-align: middle;\n",
       "    }\n",
       "\n",
       "    .dataframe tbody tr th {\n",
       "        vertical-align: top;\n",
       "    }\n",
       "\n",
       "    .dataframe thead th {\n",
       "        text-align: right;\n",
       "    }\n",
       "</style>\n",
       "<table border=\"1\" class=\"dataframe\">\n",
       "  <thead>\n",
       "    <tr style=\"text-align: right;\">\n",
       "      <th></th>\n",
       "      <th>b04</th>\n",
       "      <th>b05_mm</th>\n",
       "      <th>b05_yy</th>\n",
       "      <th>b06_yy</th>\n",
       "      <th>b14</th>\n",
       "      <th>c10_l</th>\n",
       "      <th>c10_g</th>\n",
       "      <th>c11</th>\n",
       "      <th>d02_1</th>\n",
       "      <th>d02_2</th>\n",
       "      <th>...</th>\n",
       "      <th>e22_2</th>\n",
       "      <th>e22_3</th>\n",
       "      <th>e23_1</th>\n",
       "      <th>e23_2</th>\n",
       "      <th>e23_3</th>\n",
       "      <th>g06</th>\n",
       "      <th>g07</th>\n",
       "      <th>g08</th>\n",
       "      <th>g09</th>\n",
       "      <th>g10</th>\n",
       "    </tr>\n",
       "  </thead>\n",
       "  <tbody>\n",
       "    <tr>\n",
       "      <th>0</th>\n",
       "      <td>Female</td>\n",
       "      <td>NaN</td>\n",
       "      <td>31</td>\n",
       "      <td>1984</td>\n",
       "      <td>Catholic</td>\n",
       "      <td>NaN</td>\n",
       "      <td>NaN</td>\n",
       "      <td>NaN</td>\n",
       "      <td>No</td>\n",
       "      <td>Yes</td>\n",
       "      <td>...</td>\n",
       "      <td>NaN</td>\n",
       "      <td>NaN</td>\n",
       "      <td>NaN</td>\n",
       "      <td>NaN</td>\n",
       "      <td>NaN</td>\n",
       "      <td>No</td>\n",
       "      <td>Yes</td>\n",
       "      <td>Yes</td>\n",
       "      <td>No</td>\n",
       "      <td>No</td>\n",
       "    </tr>\n",
       "    <tr>\n",
       "      <th>1</th>\n",
       "      <td>Male</td>\n",
       "      <td>NaN</td>\n",
       "      <td>9</td>\n",
       "      <td>2006</td>\n",
       "      <td>Catholic</td>\n",
       "      <td>Primary</td>\n",
       "      <td>2.0</td>\n",
       "      <td>None</td>\n",
       "      <td>No</td>\n",
       "      <td>No</td>\n",
       "      <td>...</td>\n",
       "      <td>NaN</td>\n",
       "      <td>NaN</td>\n",
       "      <td>NaN</td>\n",
       "      <td>NaN</td>\n",
       "      <td>NaN</td>\n",
       "      <td>No</td>\n",
       "      <td>Yes</td>\n",
       "      <td>Yes</td>\n",
       "      <td>No</td>\n",
       "      <td>No</td>\n",
       "    </tr>\n",
       "    <tr>\n",
       "      <th>2</th>\n",
       "      <td>Male</td>\n",
       "      <td>NaN</td>\n",
       "      <td>6</td>\n",
       "      <td>2009</td>\n",
       "      <td>Catholic</td>\n",
       "      <td>Pre-primary</td>\n",
       "      <td>2.0</td>\n",
       "      <td>None</td>\n",
       "      <td>No</td>\n",
       "      <td>No</td>\n",
       "      <td>...</td>\n",
       "      <td>NaN</td>\n",
       "      <td>NaN</td>\n",
       "      <td>NaN</td>\n",
       "      <td>NaN</td>\n",
       "      <td>NaN</td>\n",
       "      <td>No</td>\n",
       "      <td>Yes</td>\n",
       "      <td>Yes</td>\n",
       "      <td>No</td>\n",
       "      <td>No</td>\n",
       "    </tr>\n",
       "    <tr>\n",
       "      <th>3</th>\n",
       "      <td>Male</td>\n",
       "      <td>0.0</td>\n",
       "      <td>3</td>\n",
       "      <td>2012</td>\n",
       "      <td>Catholic</td>\n",
       "      <td>NaN</td>\n",
       "      <td>NaN</td>\n",
       "      <td>NaN</td>\n",
       "      <td>NaN</td>\n",
       "      <td>NaN</td>\n",
       "      <td>...</td>\n",
       "      <td>NaN</td>\n",
       "      <td>NaN</td>\n",
       "      <td>NaN</td>\n",
       "      <td>NaN</td>\n",
       "      <td>NaN</td>\n",
       "      <td>No</td>\n",
       "      <td>Yes</td>\n",
       "      <td>Yes</td>\n",
       "      <td>No</td>\n",
       "      <td>No</td>\n",
       "    </tr>\n",
       "    <tr>\n",
       "      <th>4</th>\n",
       "      <td>Male</td>\n",
       "      <td>6.0</td>\n",
       "      <td>0</td>\n",
       "      <td>2015</td>\n",
       "      <td>Catholic</td>\n",
       "      <td>NaN</td>\n",
       "      <td>NaN</td>\n",
       "      <td>NaN</td>\n",
       "      <td>NaN</td>\n",
       "      <td>NaN</td>\n",
       "      <td>...</td>\n",
       "      <td>NaN</td>\n",
       "      <td>NaN</td>\n",
       "      <td>NaN</td>\n",
       "      <td>NaN</td>\n",
       "      <td>NaN</td>\n",
       "      <td>NaN</td>\n",
       "      <td>NaN</td>\n",
       "      <td>NaN</td>\n",
       "      <td>NaN</td>\n",
       "      <td>NaN</td>\n",
       "    </tr>\n",
       "    <tr>\n",
       "      <th>5</th>\n",
       "      <td>Female</td>\n",
       "      <td>NaN</td>\n",
       "      <td>38</td>\n",
       "      <td>1977</td>\n",
       "      <td>Traditionalist</td>\n",
       "      <td>NaN</td>\n",
       "      <td>NaN</td>\n",
       "      <td>NaN</td>\n",
       "      <td>No</td>\n",
       "      <td>No</td>\n",
       "      <td>...</td>\n",
       "      <td>NaN</td>\n",
       "      <td>NaN</td>\n",
       "      <td>NaN</td>\n",
       "      <td>NaN</td>\n",
       "      <td>NaN</td>\n",
       "      <td>No</td>\n",
       "      <td>Yes</td>\n",
       "      <td>Yes</td>\n",
       "      <td>No</td>\n",
       "      <td>No</td>\n",
       "    </tr>\n",
       "    <tr>\n",
       "      <th>6</th>\n",
       "      <td>Female</td>\n",
       "      <td>NaN</td>\n",
       "      <td>17</td>\n",
       "      <td>1998</td>\n",
       "      <td>Catholic</td>\n",
       "      <td>Primary</td>\n",
       "      <td>7.0</td>\n",
       "      <td>Cpe/kcpe</td>\n",
       "      <td>No</td>\n",
       "      <td>No</td>\n",
       "      <td>...</td>\n",
       "      <td>NaN</td>\n",
       "      <td>NaN</td>\n",
       "      <td>NaN</td>\n",
       "      <td>NaN</td>\n",
       "      <td>NaN</td>\n",
       "      <td>NaN</td>\n",
       "      <td>Yes</td>\n",
       "      <td>Yes</td>\n",
       "      <td>No</td>\n",
       "      <td>No</td>\n",
       "    </tr>\n",
       "    <tr>\n",
       "      <th>7</th>\n",
       "      <td>Female</td>\n",
       "      <td>NaN</td>\n",
       "      <td>16</td>\n",
       "      <td>1999</td>\n",
       "      <td>Catholic</td>\n",
       "      <td>Primary</td>\n",
       "      <td>2.0</td>\n",
       "      <td>NaN</td>\n",
       "      <td>No</td>\n",
       "      <td>No</td>\n",
       "      <td>...</td>\n",
       "      <td>NaN</td>\n",
       "      <td>NaN</td>\n",
       "      <td>NaN</td>\n",
       "      <td>NaN</td>\n",
       "      <td>NaN</td>\n",
       "      <td>NaN</td>\n",
       "      <td>Yes</td>\n",
       "      <td>Yes</td>\n",
       "      <td>No</td>\n",
       "      <td>No</td>\n",
       "    </tr>\n",
       "    <tr>\n",
       "      <th>8</th>\n",
       "      <td>Female</td>\n",
       "      <td>NaN</td>\n",
       "      <td>13</td>\n",
       "      <td>2002</td>\n",
       "      <td>Catholic</td>\n",
       "      <td>NaN</td>\n",
       "      <td>NaN</td>\n",
       "      <td>NaN</td>\n",
       "      <td>No</td>\n",
       "      <td>No</td>\n",
       "      <td>...</td>\n",
       "      <td>NaN</td>\n",
       "      <td>NaN</td>\n",
       "      <td>NaN</td>\n",
       "      <td>NaN</td>\n",
       "      <td>NaN</td>\n",
       "      <td>NaN</td>\n",
       "      <td>Yes</td>\n",
       "      <td>Yes</td>\n",
       "      <td>No</td>\n",
       "      <td>No</td>\n",
       "    </tr>\n",
       "    <tr>\n",
       "      <th>9</th>\n",
       "      <td>Female</td>\n",
       "      <td>NaN</td>\n",
       "      <td>10</td>\n",
       "      <td>2005</td>\n",
       "      <td>Catholic</td>\n",
       "      <td>NaN</td>\n",
       "      <td>NaN</td>\n",
       "      <td>NaN</td>\n",
       "      <td>No</td>\n",
       "      <td>No</td>\n",
       "      <td>...</td>\n",
       "      <td>NaN</td>\n",
       "      <td>NaN</td>\n",
       "      <td>NaN</td>\n",
       "      <td>NaN</td>\n",
       "      <td>NaN</td>\n",
       "      <td>NaN</td>\n",
       "      <td>Yes</td>\n",
       "      <td>Yes</td>\n",
       "      <td>No</td>\n",
       "      <td>No</td>\n",
       "    </tr>\n",
       "  </tbody>\n",
       "</table>\n",
       "<p>10 rows × 34 columns</p>\n",
       "</div>"
      ],
      "text/plain": [
       "      b04  b05_mm  b05_yy b06_yy             b14        c10_l  c10_g  \\\n",
       "0  Female     NaN      31   1984        Catholic          NaN    NaN   \n",
       "1    Male     NaN       9   2006        Catholic      Primary    2.0   \n",
       "2    Male     NaN       6   2009        Catholic  Pre-primary    2.0   \n",
       "3    Male     0.0       3   2012        Catholic          NaN    NaN   \n",
       "4    Male     6.0       0   2015        Catholic          NaN    NaN   \n",
       "5  Female     NaN      38   1977  Traditionalist          NaN    NaN   \n",
       "6  Female     NaN      17   1998        Catholic      Primary    7.0   \n",
       "7  Female     NaN      16   1999        Catholic      Primary    2.0   \n",
       "8  Female     NaN      13   2002        Catholic          NaN    NaN   \n",
       "9  Female     NaN      10   2005        Catholic          NaN    NaN   \n",
       "\n",
       "        c11 d02_1 d02_2  ... e22_2 e22_3 e23_1 e23_2 e23_3  g06  g07  g08  \\\n",
       "0       NaN    No   Yes  ...   NaN   NaN   NaN   NaN   NaN   No  Yes  Yes   \n",
       "1      None    No    No  ...   NaN   NaN   NaN   NaN   NaN   No  Yes  Yes   \n",
       "2      None    No    No  ...   NaN   NaN   NaN   NaN   NaN   No  Yes  Yes   \n",
       "3       NaN   NaN   NaN  ...   NaN   NaN   NaN   NaN   NaN   No  Yes  Yes   \n",
       "4       NaN   NaN   NaN  ...   NaN   NaN   NaN   NaN   NaN  NaN  NaN  NaN   \n",
       "5       NaN    No    No  ...   NaN   NaN   NaN   NaN   NaN   No  Yes  Yes   \n",
       "6  Cpe/kcpe    No    No  ...   NaN   NaN   NaN   NaN   NaN  NaN  Yes  Yes   \n",
       "7       NaN    No    No  ...   NaN   NaN   NaN   NaN   NaN  NaN  Yes  Yes   \n",
       "8       NaN    No    No  ...   NaN   NaN   NaN   NaN   NaN  NaN  Yes  Yes   \n",
       "9       NaN    No    No  ...   NaN   NaN   NaN   NaN   NaN  NaN  Yes  Yes   \n",
       "\n",
       "   g09  g10  \n",
       "0   No   No  \n",
       "1   No   No  \n",
       "2   No   No  \n",
       "3   No   No  \n",
       "4  NaN  NaN  \n",
       "5   No   No  \n",
       "6   No   No  \n",
       "7   No   No  \n",
       "8   No   No  \n",
       "9   No   No  \n",
       "\n",
       "[10 rows x 34 columns]"
      ]
     },
     "execution_count": 72,
     "metadata": {},
     "output_type": "execute_result"
    }
   ],
   "source": [
    "df.head(10)"
   ]
  },
  {
   "cell_type": "code",
   "execution_count": 73,
   "metadata": {},
   "outputs": [
    {
     "data": {
      "text/plain": [
       "(92846, 34)"
      ]
     },
     "execution_count": 73,
     "metadata": {},
     "output_type": "execute_result"
    }
   ],
   "source": [
    "df.shape"
   ]
  },
  {
   "cell_type": "code",
   "execution_count": 74,
   "metadata": {},
   "outputs": [
    {
     "data": {
      "text/plain": [
       "b04           0\n",
       "b05_mm    80156\n",
       "b05_yy        0\n",
       "b06_yy        2\n",
       "b14           0\n",
       "c10_l     23291\n",
       "c10_g     23493\n",
       "c11       23297\n",
       "d02_1     12807\n",
       "d02_2     12807\n",
       "d02_3     12807\n",
       "d02_4     12807\n",
       "d02_5     12807\n",
       "d02_6     12807\n",
       "d04_1     51186\n",
       "d04_2     92789\n",
       "d04_3     92839\n",
       "d11_1     52395\n",
       "d11_2     92568\n",
       "d11_3     92768\n",
       "d12a      54047\n",
       "d12b      56286\n",
       "d31       53609\n",
       "e22_1       175\n",
       "e22_2     92519\n",
       "e22_3     92793\n",
       "e23_1     90386\n",
       "e23_2     92671\n",
       "e23_3     92809\n",
       "g06        7788\n",
       "g07        7723\n",
       "g08        7723\n",
       "g09        7713\n",
       "g10        7733\n",
       "dtype: int64"
      ]
     },
     "execution_count": 74,
     "metadata": {},
     "output_type": "execute_result"
    }
   ],
   "source": [
    "df.isnull().sum()"
   ]
  },
  {
   "attachments": {},
   "cell_type": "markdown",
   "metadata": {},
   "source": [
    "Dropping rows with more than **80%** missing values"
   ]
  },
  {
   "cell_type": "code",
   "execution_count": 75,
   "metadata": {},
   "outputs": [],
   "source": [
    "# Calculate the percentage of missing values in each row\n",
    "row_missing = df.isnull().mean(axis=1)\n",
    "\n",
    "# Drop rows that have 80% or more missing values\n",
    "df = df[row_missing < 0.8]\n",
    "\n"
   ]
  },
  {
   "attachments": {},
   "cell_type": "markdown",
   "metadata": {},
   "source": [
    "Drop coluns with more than 80% missing values"
   ]
  },
  {
   "cell_type": "code",
   "execution_count": 76,
   "metadata": {},
   "outputs": [],
   "source": [
    "# Calculate the percentage of missing values in each column\n",
    "col_missing = df.isnull().mean()\n",
    "\n",
    "# Drop columns that have 80% or more missing values\n",
    "df = df.drop(col_missing[col_missing >= 0.8].index, axis=1)\n"
   ]
  },
  {
   "cell_type": "code",
   "execution_count": 77,
   "metadata": {},
   "outputs": [
    {
     "data": {
      "text/plain": [
       "b04           0\n",
       "b05_yy        0\n",
       "b06_yy        2\n",
       "b14           0\n",
       "c10_l     15783\n",
       "c10_g     15985\n",
       "c11       15789\n",
       "d02_1      5299\n",
       "d02_2      5299\n",
       "d02_3      5299\n",
       "d02_4      5299\n",
       "d02_5      5299\n",
       "d02_6      5299\n",
       "d04_1     43678\n",
       "d11_1     44887\n",
       "d12a      46539\n",
       "d12b      48778\n",
       "d31       46101\n",
       "e22_1       138\n",
       "g06         280\n",
       "g07         215\n",
       "g08         215\n",
       "g09         205\n",
       "g10         225\n",
       "dtype: int64"
      ]
     },
     "execution_count": 77,
     "metadata": {},
     "output_type": "execute_result"
    }
   ],
   "source": [
    "df.isnull().sum()"
   ]
  },
  {
   "attachments": {},
   "cell_type": "markdown",
   "metadata": {},
   "source": [
    "Creating a function to fill missing values propotionally"
   ]
  },
  {
   "cell_type": "code",
   "execution_count": 78,
   "metadata": {},
   "outputs": [],
   "source": [
    "# function to fill missing values propotionally\n",
    "\n",
    "def fill_missing_values_proportionally(df, column):\n",
    "    value_counts = df[column].value_counts(normalize=True)\n",
    "    def fill_missing(value):\n",
    "        if pd.isnull(value):\n",
    "            return np.random.choice(value_counts.index, p=value_counts.values)\n",
    "        else:\n",
    "            return value\n",
    "    df[column] = df[column].apply(fill_missing)\n",
    "    return df"
   ]
  },
  {
   "cell_type": "code",
   "execution_count": 79,
   "metadata": {},
   "outputs": [],
   "source": [
    "#apply function to all columns \n",
    "missing_columns = df.columns[df.isnull().any()].tolist()\n",
    "\n",
    "for column in missing_columns:\n",
    "    df = fill_missing_values_proportionally(df, column)"
   ]
  },
  {
   "cell_type": "code",
   "execution_count": 80,
   "metadata": {},
   "outputs": [
    {
     "data": {
      "text/plain": [
       "b04       0\n",
       "b05_yy    0\n",
       "b06_yy    0\n",
       "b14       0\n",
       "c10_l     0\n",
       "c10_g     0\n",
       "c11       0\n",
       "d02_1     0\n",
       "d02_2     0\n",
       "d02_3     0\n",
       "d02_4     0\n",
       "d02_5     0\n",
       "d02_6     0\n",
       "d04_1     0\n",
       "d11_1     0\n",
       "d12a      0\n",
       "d12b      0\n",
       "d31       0\n",
       "e22_1     0\n",
       "g06       0\n",
       "g07       0\n",
       "g08       0\n",
       "g09       0\n",
       "g10       0\n",
       "dtype: int64"
      ]
     },
     "execution_count": 80,
     "metadata": {},
     "output_type": "execute_result"
    }
   ],
   "source": [
    "df.isnull().sum()"
   ]
  },
  {
   "attachments": {},
   "cell_type": "markdown",
   "metadata": {},
   "source": [
    "### Feature Engineering"
   ]
  },
  {
   "cell_type": "code",
   "execution_count": 81,
   "metadata": {},
   "outputs": [],
   "source": [
    "#selecting dependet and independet variables\n",
    "\n",
    "dep_variable = df[\"d11_1\"]\n",
    "ind_variable  = df.drop(columns=[\"d11_1\"])"
   ]
  },
  {
   "attachments": {},
   "cell_type": "markdown",
   "metadata": {},
   "source": [
    "##### Converting to Continous variables"
   ]
  },
  {
   "cell_type": "code",
   "execution_count": 82,
   "metadata": {},
   "outputs": [],
   "source": [
    "#selecting object types\n",
    "non_numeric_columns = ind_variable.select_dtypes(exclude=['int64', 'float64']).columns.tolist()\n",
    "numeric_columns = ind_variable.select_dtypes(include=[\"int64\", \"float64\"]).columns.tolist()"
   ]
  },
  {
   "cell_type": "code",
   "execution_count": 85,
   "metadata": {},
   "outputs": [],
   "source": [
    "#converting to continous\n",
    "ind_variables = pd.get_dummies(ind_variable, columns=non_numeric_columns, drop_first=True)"
   ]
  },
  {
   "attachments": {},
   "cell_type": "markdown",
   "metadata": {},
   "source": [
    "#### Data Imbalance"
   ]
  },
  {
   "cell_type": "code",
   "execution_count": 84,
   "metadata": {},
   "outputs": [],
   "source": [
    "#import modules\n",
    "from imblearn.over_sampling import SMOTE\n",
    "from sklearn.model_selection import train_test_split"
   ]
  },
  {
   "cell_type": "code",
   "execution_count": 89,
   "metadata": {},
   "outputs": [],
   "source": [
    "# Dependet and independet variable\n",
    "y = dep_variable.copy()\n",
    "X = ind_variables.copy()\n"
   ]
  },
  {
   "cell_type": "code",
   "execution_count": 90,
   "metadata": {},
   "outputs": [],
   "source": [
    "X_train, X_test, y_train, y_test = train_test_split(X, y, test_size=0.2, random_state=0)"
   ]
  },
  {
   "cell_type": "code",
   "execution_count": null,
   "metadata": {},
   "outputs": [],
   "source": [
    "# applying smote to the training data\n",
    "smote = SMOTE(sampling_strategy=\"auto\", random_state=0)\n"
   ]
  }
 ],
 "metadata": {
  "kernelspec": {
   "display_name": "Python 3",
   "language": "python",
   "name": "python3"
  },
  "language_info": {
   "codemirror_mode": {
    "name": "ipython",
    "version": 3
   },
   "file_extension": ".py",
   "mimetype": "text/x-python",
   "name": "python",
   "nbconvert_exporter": "python",
   "pygments_lexer": "ipython3",
   "version": "3.8.10"
  },
  "orig_nbformat": 4,
  "vscode": {
   "interpreter": {
    "hash": "916dbcbb3f70747c44a77c7bcd40155683ae19c65e1c03b4aa3499c5328201f1"
   }
  }
 },
 "nbformat": 4,
 "nbformat_minor": 2
}
